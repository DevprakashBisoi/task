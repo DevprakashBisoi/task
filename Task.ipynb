{
 "cells": [
  {
   "cell_type": "code",
   "execution_count": 1,
   "metadata": {},
   "outputs": [],
   "source": [
    "import numpy as np"
   ]
  },
  {
   "cell_type": "code",
   "execution_count": 3,
   "metadata": {},
   "outputs": [
    {
     "data": {
      "text/plain": [
       "array([0., 0., 0., 0., 1., 0., 0., 0., 0., 0.])"
      ]
     },
     "execution_count": 3,
     "metadata": {},
     "output_type": "execute_result"
    }
   ],
   "source": [
    "answer = np.zeros(10)\n",
    "answer[4] = 1\n",
    "answer"
   ]
  },
  {
   "cell_type": "code",
   "execution_count": 5,
   "metadata": {},
   "outputs": [
    {
     "data": {
      "text/plain": [
       "array([10, 11, 12, 13, 14, 15, 16, 17, 18, 19, 20, 21, 22, 23, 24, 25, 26,\n",
       "       27, 28, 29, 30, 31, 32, 33, 34, 35, 36, 37, 38, 39, 40, 41, 42, 43,\n",
       "       44, 45, 46, 47, 48, 49])"
      ]
     },
     "execution_count": 5,
     "metadata": {},
     "output_type": "execute_result"
    }
   ],
   "source": [
    "vector = np.arange(10,50)\n",
    "vector"
   ]
  },
  {
   "cell_type": "code",
   "execution_count": 6,
   "metadata": {},
   "outputs": [
    {
     "data": {
      "text/plain": [
       "array([49, 48, 47, 46, 45, 44, 43, 42, 41, 40, 39, 38, 37, 36, 35, 34, 33,\n",
       "       32, 31, 30, 29, 28, 27, 26, 25, 24, 23, 22, 21, 20, 19, 18, 17, 16,\n",
       "       15, 14, 13, 12, 11, 10])"
      ]
     },
     "execution_count": 6,
     "metadata": {},
     "output_type": "execute_result"
    }
   ],
   "source": [
    "vector[::-1]"
   ]
  },
  {
   "cell_type": "code",
   "execution_count": 10,
   "metadata": {},
   "outputs": [
    {
     "name": "stdout",
     "output_type": "stream",
     "text": [
      "[[0 1 2]\n",
      " [3 4 5]\n",
      " [6 7 8]]\n"
     ]
    },
    {
     "data": {
      "text/plain": [
       "(3, 3)"
      ]
     },
     "execution_count": 10,
     "metadata": {},
     "output_type": "execute_result"
    }
   ],
   "source": [
    "array=np.array([[0, 1, 2], [3, 4, 5],[6, 7, 8]])\n",
    "print(array)\n",
    "array.shape"
   ]
  },
  {
   "cell_type": "code",
   "execution_count": 11,
   "metadata": {},
   "outputs": [
    {
     "name": "stdout",
     "output_type": "stream",
     "text": [
      "(array([0, 1, 4]),)\n"
     ]
    }
   ],
   "source": [
    "a = np.array([1,2,0,0,4,0])\n",
    "print(np.nonzero(a))"
   ]
  },
  {
   "cell_type": "code",
   "execution_count": 12,
   "metadata": {},
   "outputs": [
    {
     "name": "stdout",
     "output_type": "stream",
     "text": [
      "[[[0.57401136 0.59115598 0.535222  ]\n",
      "  [0.18805891 0.66028853 0.71035735]\n",
      "  [0.52741874 0.81261074 0.23901876]]\n",
      "\n",
      " [[0.42066429 0.65703039 0.22568041]\n",
      "  [0.32979449 0.58927054 0.66470111]\n",
      "  [0.45265626 0.28954519 0.66606841]]\n",
      "\n",
      " [[0.43825685 0.59966164 0.63072563]\n",
      "  [0.39099019 0.86073477 0.13218448]\n",
      "  [0.11713734 0.16959358 0.51007156]]]\n"
     ]
    }
   ],
   "source": [
    "a = np.random.random((3,3,3))\n",
    "print(a)"
   ]
  },
  {
   "cell_type": "code",
   "execution_count": 18,
   "metadata": {},
   "outputs": [
    {
     "name": "stdout",
     "output_type": "stream",
     "text": [
      "[[0.69529576 0.95156927 0.07778695 0.08371428 0.00571866 0.21004761\n",
      "  0.04629527 0.6992553  0.14688741 0.34931454]\n",
      " [0.08717228 0.80685074 0.9040825  0.45239265 0.05297792 0.83677588\n",
      "  0.23007514 0.90909986 0.4004588  0.23534222]\n",
      " [0.54611885 0.84999232 0.16694604 0.7103579  0.32393177 0.31274237\n",
      "  0.13835217 0.54297743 0.14744987 0.09532084]\n",
      " [0.58491493 0.73127834 0.51774352 0.20769231 0.2476291  0.29465736\n",
      "  0.82310649 0.19890127 0.45380938 0.45906965]\n",
      " [0.23351529 0.89121913 0.34090611 0.01725162 0.61046645 0.40385265\n",
      "  0.07852006 0.3364494  0.57624918 0.35764612]\n",
      " [0.27778674 0.22323055 0.63768342 0.15579542 0.90170851 0.94601144\n",
      "  0.37738504 0.42679441 0.89352037 0.16404184]\n",
      " [0.5031274  0.71377497 0.34348967 0.34217739 0.97535547 0.03511624\n",
      "  0.52170844 0.00112541 0.0465513  0.78642013]\n",
      " [0.76857977 0.08575502 0.55565413 0.98361069 0.50687418 0.06011667\n",
      "  0.86132565 0.80499578 0.48369786 0.43690432]\n",
      " [0.28581941 0.39868884 0.69674829 0.41358606 0.6895031  0.9445073\n",
      "  0.91522942 0.38739509 0.88759167 0.7095067 ]\n",
      " [0.36740106 0.6467333  0.70238354 0.49291572 0.38529525 0.02746647\n",
      "  0.75882218 0.10024463 0.45736758 0.3081254 ]]\n",
      "Min value 0.0011254143009483686\n",
      "Max value 0.9836106859778545\n"
     ]
    }
   ],
   "source": [
    "arr = np.random.random((10,10))\n",
    "print(arr)\n",
    "print(\"Min value\", arr.min())\n",
    "print(\"Max value\", arr.max())"
   ]
  },
  {
   "cell_type": "code",
   "execution_count": 19,
   "metadata": {},
   "outputs": [
    {
     "name": "stdout",
     "output_type": "stream",
     "text": [
      "[[1. 1. 1. 1. 1.]\n",
      " [1. 0. 0. 0. 1.]\n",
      " [1. 0. 0. 0. 1.]\n",
      " [1. 0. 0. 0. 1.]\n",
      " [1. 1. 1. 1. 1.]]\n"
     ]
    }
   ],
   "source": [
    "arr=np.ones((5,5))\n",
    "arr[1:-1,1:-1]=0\n",
    "print(arr)"
   ]
  },
  {
   "cell_type": "code",
   "execution_count": null,
   "metadata": {},
   "outputs": [],
   "source": []
  }
 ],
 "metadata": {
  "kernelspec": {
   "display_name": "Python 3",
   "language": "python",
   "name": "python3"
  },
  "language_info": {
   "codemirror_mode": {
    "name": "ipython",
    "version": 3
   },
   "file_extension": ".py",
   "mimetype": "text/x-python",
   "name": "python",
   "nbconvert_exporter": "python",
   "pygments_lexer": "ipython3",
   "version": "3.7.6"
  }
 },
 "nbformat": 4,
 "nbformat_minor": 4
}
